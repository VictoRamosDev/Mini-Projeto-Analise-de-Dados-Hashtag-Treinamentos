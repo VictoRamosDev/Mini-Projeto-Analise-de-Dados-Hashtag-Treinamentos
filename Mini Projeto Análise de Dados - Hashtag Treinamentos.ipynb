{
 "cells": [
  {
   "cell_type": "markdown",
   "metadata": {},
   "source": [
    "# Exercício - Mini Projeto de Análise de Dados - Hashtag Treinamentos\n",
    "\n",
    "Vamos fazer um exercício completo de pandas para um miniprojeto de análise de dados.\n",
    "\n",
    "Esse exercício vai obrigar a gente a usar boa parte dos conhecimento de pandas e até de outros módulos que já aprendemos ao longo do curso.\n",
    "\n",
    "### O que temos?\n",
    "\n",
    "Temos os dados de 2019 de uma empresa de prestação de serviços. \n",
    "\n",
    "- CadastroFuncionarios\n",
    "- CadastroClientes\n",
    "- BaseServiçosPrestados\n",
    "\n",
    "Obs1: Para ler arquivos csv, temos o read_csv<br>\n",
    "Obs2: Para ler arquivos xlsx (arquivos em excel normais, que não são padrão csv), temos o read_excel\n",
    "\n",
    "### O que queremos saber/fazer?\n",
    "\n",
    "1. Valor Total da Folha Salarial -> Qual foi o gasto total com salários de funcionários pela empresa? <br>\n",
    "    Sugestão: calcule o salário total de cada funcionário, salário + benefícios + impostos, depois some todos os salários\n",
    "    \n",
    "    \n",
    "2. Qual foi o faturamento da empresa?<br>\n",
    "    Sugestão: calcule o faturamento total de cada serviço e depois some o faturamento de todos\n",
    "    \n",
    "    \n",
    "3. Qual o % de funcionários que já fechou algum contrato?<br>\n",
    "    Sugestão: na base de serviços temos o funcionário que fechou cada serviço. Mas nem todos os funcionários que a empresa tem já fecharam algum serviço.<br>\n",
    "    . Na base de funcionários temos uma lista com todos os funcionários<br>\n",
    "    . Queremos calcular Qtde_Funcionarios_Fecharam_Serviço / Qtde_Funcionários_Totais<br>\n",
    "    . Para calcular a qtde de funcionários que fecharam algum serviço, use a base de serviços e conte quantos funcionários tem ali. Mas lembre-se, cada funcionário só pode ser contado uma única vez.<br><br>\n",
    "    Dica: se você aplicar o método .unique() em uma variável que é apenas 1 coluna de um dataframe, ele vai excluir todos os valores duplicados daquela coluna.<br>\n",
    "    Ex: unicos_colunaA = dataframe['colunaA'].unique() te dá como resposta uma lista com todos os itens da colunaA aparecendo uma única vez. Todos os valores repetidos da colunaA são excluidos da variável unicos_colunaA \n",
    "    \n",
    "    \n",
    "4. Calcule o total de contratos que cada área da empresa já fechou\n",
    "\n",
    "\n",
    "5. Calcule o total de funcionários por área\n",
    "\n",
    "\n",
    "6. Qual o ticket médio mensal (faturamento médio mensal) dos contratos?<br>\n",
    "    Dica: .mean() calcula a média -> exemplo: media_colunaA = dataframe['colunaA'].mean()\n",
    "\n",
    "Obs: Lembrando as opções mais usuais de encoding:<br>\n",
    "encoding='latin1', encoding='ISO-8859-1', encoding='utf-8' ou então encoding='cp1252'\n",
    "\n",
    "Observação Importante: Se o seu código der um erro na hora de importar os arquivos:<br>\n",
    "- CadastroClientes.csv\n",
    "- CadastroFuncionarios.csv\n",
    "\n",
    "Use separador \";\" (ponto e vírgula) para resolver"
   ]
  },
  {
   "cell_type": "markdown",
   "metadata": {},
   "source": [
    "# 1. Importando bases"
   ]
  },
  {
   "cell_type": "code",
   "execution_count": 40,
   "metadata": {},
   "outputs": [],
   "source": [
    "import pandas as pd\n",
    "\n",
    "clientes = pd.read_csv(\"CadastroClientes.csv\", sep=';', decimal = ',', encoding='utf-8')\n",
    "funcionarios = pd.read_csv(\"CadastroFuncionarios.csv\", sep=';', decimal = ',', encoding='utf-8')\n",
    "servicos = pd.read_excel(\"BaseServiçosPrestados.xlsx\", decimal = ',')"
   ]
  },
  {
   "cell_type": "markdown",
   "metadata": {},
   "source": [
    "# 2. Visualizando bases para entender com o que estamos trabalhando"
   ]
  },
  {
   "cell_type": "code",
   "execution_count": 63,
   "metadata": {},
   "outputs": [
    {
     "data": {
      "text/html": [
       "<div>\n",
       "<style scoped>\n",
       "    .dataframe tbody tr th:only-of-type {\n",
       "        vertical-align: middle;\n",
       "    }\n",
       "\n",
       "    .dataframe tbody tr th {\n",
       "        vertical-align: top;\n",
       "    }\n",
       "\n",
       "    .dataframe thead th {\n",
       "        text-align: right;\n",
       "    }\n",
       "</style>\n",
       "<table border=\"1\" class=\"dataframe\">\n",
       "  <thead>\n",
       "    <tr style=\"text-align: right;\">\n",
       "      <th></th>\n",
       "      <th>ID Funcionário</th>\n",
       "      <th>Estado Civil</th>\n",
       "      <th>Nome Completo</th>\n",
       "      <th>Salario Base</th>\n",
       "      <th>Impostos</th>\n",
       "      <th>Beneficios</th>\n",
       "      <th>VT</th>\n",
       "      <th>VR</th>\n",
       "      <th>Cargo</th>\n",
       "      <th>Area</th>\n",
       "      <th>Salario Total</th>\n",
       "    </tr>\n",
       "  </thead>\n",
       "  <tbody>\n",
       "    <tr>\n",
       "      <th>0</th>\n",
       "      <td>1</td>\n",
       "      <td>C</td>\n",
       "      <td>Gabriel Mesquita</td>\n",
       "      <td>21910</td>\n",
       "      <td>10955.0</td>\n",
       "      <td>4382.0</td>\n",
       "      <td>242</td>\n",
       "      <td>719.04</td>\n",
       "      <td>Diretor</td>\n",
       "      <td>Operações</td>\n",
       "      <td>38208.04</td>\n",
       "    </tr>\n",
       "    <tr>\n",
       "      <th>1</th>\n",
       "      <td>2</td>\n",
       "      <td>C</td>\n",
       "      <td>João Haddad</td>\n",
       "      <td>5404</td>\n",
       "      <td>2702.0</td>\n",
       "      <td>1080.8</td>\n",
       "      <td>154</td>\n",
       "      <td>574.56</td>\n",
       "      <td>Estagiário</td>\n",
       "      <td>Logística</td>\n",
       "      <td>9915.36</td>\n",
       "    </tr>\n",
       "    <tr>\n",
       "      <th>2</th>\n",
       "      <td>3</td>\n",
       "      <td>C</td>\n",
       "      <td>Amanda Marques Ribeiro</td>\n",
       "      <td>16066</td>\n",
       "      <td>8033.0</td>\n",
       "      <td>3213.2</td>\n",
       "      <td>154</td>\n",
       "      <td>729.12</td>\n",
       "      <td>Estagiário</td>\n",
       "      <td>Administrativo</td>\n",
       "      <td>28195.32</td>\n",
       "    </tr>\n",
       "    <tr>\n",
       "      <th>3</th>\n",
       "      <td>4</td>\n",
       "      <td>C</td>\n",
       "      <td>Guilherme Nunez</td>\n",
       "      <td>21305</td>\n",
       "      <td>10652.5</td>\n",
       "      <td>4261.0</td>\n",
       "      <td>220</td>\n",
       "      <td>524.16</td>\n",
       "      <td>Analista</td>\n",
       "      <td>Administrativo</td>\n",
       "      <td>36962.66</td>\n",
       "    </tr>\n",
       "    <tr>\n",
       "      <th>4</th>\n",
       "      <td>5</td>\n",
       "      <td>C</td>\n",
       "      <td>Adelino Gomes</td>\n",
       "      <td>5098</td>\n",
       "      <td>2549.0</td>\n",
       "      <td>1019.6</td>\n",
       "      <td>176</td>\n",
       "      <td>725.76</td>\n",
       "      <td>Analista</td>\n",
       "      <td>Administrativo</td>\n",
       "      <td>9568.36</td>\n",
       "    </tr>\n",
       "  </tbody>\n",
       "</table>\n",
       "</div>"
      ],
      "text/plain": [
       "   ID Funcionário Estado Civil           Nome Completo  Salario Base  \\\n",
       "0               1            C        Gabriel Mesquita         21910   \n",
       "1               2            C             João Haddad          5404   \n",
       "2               3            C  Amanda Marques Ribeiro         16066   \n",
       "3               4            C         Guilherme Nunez         21305   \n",
       "4               5            C           Adelino Gomes          5098   \n",
       "\n",
       "   Impostos  Beneficios   VT      VR       Cargo            Area  \\\n",
       "0   10955.0      4382.0  242  719.04     Diretor       Operações   \n",
       "1    2702.0      1080.8  154  574.56  Estagiário       Logística   \n",
       "2    8033.0      3213.2  154  729.12  Estagiário  Administrativo   \n",
       "3   10652.5      4261.0  220  524.16    Analista  Administrativo   \n",
       "4    2549.0      1019.6  176  725.76    Analista  Administrativo   \n",
       "\n",
       "   Salario Total  \n",
       "0       38208.04  \n",
       "1        9915.36  \n",
       "2       28195.32  \n",
       "3       36962.66  \n",
       "4        9568.36  "
      ]
     },
     "execution_count": 63,
     "metadata": {},
     "output_type": "execute_result"
    }
   ],
   "source": [
    "clientes.head()\n",
    "funcionarios.head()\n",
    "#servicos.head()"
   ]
  },
  {
   "cell_type": "markdown",
   "metadata": {},
   "source": [
    "# 3. Resolução dos problemas"
   ]
  },
  {
   "cell_type": "markdown",
   "metadata": {},
   "source": [
    "## 3.1. Valor total da folha salarial"
   ]
  },
  {
   "cell_type": "code",
   "execution_count": 42,
   "metadata": {},
   "outputs": [
    {
     "name": "stdout",
     "output_type": "stream",
     "text": [
      "Folha salarial total: R$ 2,717,493.22\n"
     ]
    }
   ],
   "source": [
    "funcionarios['Salario Total'] = funcionarios['Salario Base'] + funcionarios['Impostos'] + funcionarios['Beneficios'] + funcionarios['VT'] + funcionarios['VR']\n",
    "#funcionarios['Salario Total'] = funcionarios['Salario Total'].replace(0, pd.NA)\n",
    "#funcionarios['Salario Total'] = funcionarios['Salario Total'].apply(lambda x: f'R$ {x:,.2f}')\n",
    "\n",
    "funcionarios.head()\n",
    "\n",
    "folha_salarial_total = funcionarios['Salario Total'].sum()\n",
    "print(f\"Folha salarial total: R$ {folha_salarial_total:,.2f}\")"
   ]
  },
  {
   "cell_type": "markdown",
   "metadata": {},
   "source": [
    "## 3.2. Faturamento da empresa"
   ]
  },
  {
   "cell_type": "code",
   "execution_count": 47,
   "metadata": {},
   "outputs": [
    {
     "name": "stdout",
     "output_type": "stream",
     "text": [
      "Faturamento total: R$ 5,519,160.00\n"
     ]
    }
   ],
   "source": [
    "servicos.head()\n",
    "clientes.head()\n",
    "\n",
    "faturamentos = servicos[['ID Cliente', 'Tempo Total de Contrato (Meses)']].merge(clientes[['ID Cliente', 'Valor Contrato Mensal']], on='ID Cliente')\n",
    "faturamentos['Faturamento Total'] = faturamentos['Tempo Total de Contrato (Meses)'] * faturamentos['Valor Contrato Mensal']\n",
    "\n",
    "faturamento_total = faturamentos['Faturamento Total'].sum()\n",
    "print(f\"Faturamento total: R$ {faturamento_total:,.2f}\")"
   ]
  },
  {
   "cell_type": "markdown",
   "metadata": {},
   "source": [
    "## 3.3. Percentual de funcionários que já fechou um contrato"
   ]
  },
  {
   "cell_type": "code",
   "execution_count": 61,
   "metadata": {},
   "outputs": [
    {
     "name": "stdout",
     "output_type": "stream",
     "text": [
      "Total de funcionários: 114\n",
      "\n",
      "Total de funcionários que fecharam contrato: 99\n",
      "\n",
      "Percentual de funcionários que fecharam contrato: 86.84%\n"
     ]
    }
   ],
   "source": [
    "total_funcionarios = funcionarios['ID Funcionário'].nunique()\n",
    "print(f\"Total de funcionários: {total_funcionarios}\")\n",
    "print()\n",
    "\n",
    "fechou_contrato_funcionarios = servicos['ID Funcionário'].nunique()\n",
    "print(f\"Total de funcionários que fecharam contrato: {fechou_contrato_funcionarios}\")\n",
    "print()\n",
    "\n",
    "percentual_funcionarios = (fechou_contrato_funcionarios / total_funcionarios) * 100\n",
    "print(f\"Percentual de funcionários que fecharam contrato: {percentual_funcionarios:.2f}%\")\n"
   ]
  },
  {
   "cell_type": "markdown",
   "metadata": {},
   "source": [
    "## 3.4. Total de contratos que cada área da empresa já fechou"
   ]
  },
  {
   "cell_type": "code",
   "execution_count": 81,
   "metadata": {},
   "outputs": [
    {
     "data": {
      "text/plain": [
       "<Axes: title={'center': 'Contratos por área'}, xlabel='Área', ylabel='Quantidade de contratos'>"
      ]
     },
     "execution_count": 81,
     "metadata": {},
     "output_type": "execute_result"
    },
    {
     "data": {
      "image/png": "[encoded data removed]",
      "text/plain": [
       "<Figure size 1000x600 with 1 Axes>"
      ]
     },
     "metadata": {},
     "output_type": "display_data"
    }
   ],
   "source": [
    "servicos.head()\n",
    "\n",
    "faturamentos = servicos[['ID Cliente', 'Tempo Total de Contrato (Meses)']].merge(clientes[['ID Cliente', 'Valor Contrato Mensal']], on='ID Cliente')\n",
    "\n",
    "contratos_por_area = servicos[['ID Funcionário']].merge(funcionarios[['ID Funcionário', 'Area']])\n",
    "\n",
    "contador_contr_por_area = contratos_por_area['Area'].value_counts()\n",
    "\n",
    "contador_contr_por_area.plot(kind='barh', title='Contratos por área', xlabel='Área', ylabel='Quantidade de contratos', color='blue', figsize=(10, 6))\n",
    "\n",
    "#contratos_por_area.head()"
   ]
  },
  {
   "cell_type": "markdown",
   "metadata": {},
   "source": [
    "## 3.5. Total de funcionários por área"
   ]
  },
  {
   "cell_type": "code",
   "execution_count": 88,
   "metadata": {},
   "outputs": [
    {
     "name": "stdout",
     "output_type": "stream",
     "text": [
      "Area\n",
      "Administrativo    26\n",
      "Comercial         26\n",
      "Operações         23\n",
      "Logística         21\n",
      "Financeiro        18\n",
      "Name: count, dtype: int64\n"
     ]
    },
    {
     "data": {
      "text/plain": [
       "<Axes: title={'center': 'Funcionários por área'}, xlabel='Área', ylabel='Quantidade de funcionários'>"
      ]
     },
     "execution_count": 88,
     "metadata": {},
     "output_type": "execute_result"
    },
    {
     "data": {
      "image/png": "[encoded data removed]",
      "text/plain": [
       "<Figure size 1000x600 with 1 Axes>"
      ]
     },
     "metadata": {},
     "output_type": "display_data"
    }
   ],
   "source": [
    "funcionarios_por_area = funcionarios['Area'].value_counts()#('Area').size()#.reset_index(name='Total Funcionários')\n",
    "\n",
    "print(funcionarios_por_area)\n",
    "\n",
    "funcionarios_por_area.plot(kind='bar', title='Funcionários por área', xlabel='Área', ylabel='Quantidade de funcionários', color='green', figsize=(10, 6))\n"
   ]
  },
  {
   "cell_type": "markdown",
   "metadata": {},
   "source": [
    "## 3.6. Ticket médio mensal dos contratos"
   ]
  },
  {
   "cell_type": "code",
   "execution_count": 92,
   "metadata": {},
   "outputs": [
    {
     "name": "stdout",
     "output_type": "stream",
     "text": [
      "Ticket médio: R$ 2,502.56\n"
     ]
    }
   ],
   "source": [
    "clientes.head()\n",
    "\n",
    "ticket_medio = clientes['Valor Contrato Mensal'].mean()\n",
    "print(f\"Ticket médio: R$ {ticket_medio:,.2f}\")"
   ]
  }
 ],
 "metadata": {
  "kernelspec": {
   "display_name": "Python 3",
   "language": "python",
   "name": "python3"
  },
  "language_info": {
   "codemirror_mode": {
    "name": "ipython",
    "version": 3
   },
   "file_extension": ".py",
   "mimetype": "text/x-python",
   "name": "python",
   "nbconvert_exporter": "python",
   "pygments_lexer": "ipython3",
   "version": "3.11.9"
  }
 },
 "nbformat": 4,
 "nbformat_minor": 4
}
